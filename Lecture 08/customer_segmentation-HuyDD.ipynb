{
 "cells": [
  {
   "cell_type": "markdown",
   "metadata": {
    "id": "Kh46GIQvzg6H"
   },
   "source": [
    "# <p style=\"background-color:#682F2F;font-family:newtimeroman;color:#FFF9ED;font-size:150%;text-align:center;border-radius:10px 10px;\">Customer Segmentation</p>\n",
    "\n",
    "<img src=\"https://github.com/KarnikaKapoor/Files/blob/main/Colorful%20Handwritten%20About%20Me%20Blank%20Education%20Presentation.gif?raw=true\">\n",
    "\n",
    "In this final project, an unsupervised clustering will be performed on the customer's records extracted into [`online_retail.xlsx`](https://github.com/thuynh386/olist_ecommerce_dataset/blob/master/online_retail_II.xlsx?raw=true). \n",
    "   <a id='top'></a>\n",
    "<div class=\"list-group\" id=\"list-tab\" role=\"tablist\">\n",
    "<p style=\"background-color:#682F2F;font-family:newtimeroman;color:#FFF9ED;font-size:150%;text-align:center;border-radius:10px 10px;\">Requirements</p>   \n",
    "    \n",
    "### 1. Import libraries\n",
    "\n",
    "Import libraries that support the analysis and visualization of data, e.g. pandas, matplotlib, seaborn, sklearn, etc.\n",
    "\n",
    "|Invoice|StockCode|\tDescription|\tQuantity\t|InvoiceDate|\tPrice|\tCustomer ID|\tCountry|\n",
    "|-|-|\t-|\t-\t|-|\t-|\t-|\t-|\n",
    "|0\t|489434 |85048|\t15CM CHRISTMAS GLASS BALL 20 LIGHTS\t12\t|2009-12-01 07:45:00\t|6.95\t|13085.0\t|United Kingdom|\n",
    "|1\t|489434 |79323P|\tPINK CHERRY LIGHTS\t12|\t2009-12-01 07:45:00|\t6.75|\t13085.0|\tUnited Kingdom|\n",
    "\n",
    "### 2. Load datasets\n",
    "\n",
    "The dataset can be accessed [here](https://github.com/thuynh386/olist_ecommerce_dataset/blob/master/online_retail_II.xlsx?raw=true) and can be loaded from excel using pandas.\n",
    "Further analysis can be performed on the dataset to discover the relationship between the features and the problem of features.\n",
    "E.g:\n",
    "- How many customers are there in the dataset?\n",
    "- Describe the dataset with the necessary information?\n",
    "- Is there any abnormal type for each feature?\n",
    "- How many unique values are there in each feature?\n",
    "- How many missing values are there in each feature?\n",
    "- Are there any outliers in each feature?\n",
    "    \n",
    "### 3. Data cleaning and preprocessing \n",
    "- Remove the outliers if any.\n",
    "- Remove the missing values if any.\n",
    "- Convert the date to datetime format.\n",
    "- Convert the quantity to numeric.\n",
    "- Convert the customer id to numeric.\n",
    "- Remove the duplicates and test data where StockCode is 'TEST' or 'M'.\n",
    "\n",
    "### 4. Data visualization and analysis\n",
    "- Visualize the data with the help of matplotlib and seaborn for the above analysis.\n",
    "\n",
    "### 5. Feature creation\n",
    "Create new features from the existing features to capture the RFM (Recency, Frequency, Monetary) of the customer.\n",
    "- Create `StockValue` feature, which is the product of `Quantity` and `Price`.\n",
    "- Create `Recency` feature, which is the difference between `InvoiceDate` and `InvoiceDate` of the last invoice.\n",
    "- Create `Frequency` feature, which is the number of invoices of the customer.\n",
    "- Create `Monetary` feature, which is the sum of `StockValue` of the invoices.\n",
    "Make sure that the features are in the same scale in the dataset with no missing values or outliers.\n",
    "    \n",
    "### 6. Clustering with suitable algorithm\n",
    "Perform clustering on the dataset using the algorithm that is suitable for the problem. E.g Kmeans, GMM, DBSCAN, etc.\n",
    "In terms of K-means, make sure to find the optimal number of clusters using the elbow method.\n",
    "Visualize the clusters using the above analysis. Examine the clusters formed via scatter plot.\n",
    "\n",
    "### 7. Evaluate the clustering results and conclusion of the analysis (Important)"
   ]
  },
  {
   "cell_type": "code",
   "execution_count": 1,
   "metadata": {},
   "outputs": [],
   "source": [
    "### 1"
   ]
  },
  {
   "cell_type": "code",
   "execution_count": 2,
   "metadata": {},
   "outputs": [],
   "source": [
    "import pandas as pd\n",
    "import numpy as np\n",
    "import seaborn as sns\n",
    "import matplotlib.pyplot as plt"
   ]
  },
  {
   "cell_type": "code",
   "execution_count": 8,
   "metadata": {},
   "outputs": [
    {
     "name": "stdout",
     "output_type": "stream",
     "text": [
      "Collecting openpyxl\n",
      "  Downloading openpyxl-3.0.10-py2.py3-none-any.whl (242 kB)\n",
      "Collecting et-xmlfile\n",
      "  Downloading et_xmlfile-1.1.0-py3-none-any.whl (4.7 kB)\n",
      "Installing collected packages: et-xmlfile, openpyxl\n",
      "Successfully installed et-xmlfile-1.1.0 openpyxl-3.0.10\n",
      "Note: you may need to restart the kernel to use updated packages.\n"
     ]
    }
   ],
   "source": [
    "pip install openpyxl"
   ]
  },
  {
   "cell_type": "raw",
   "metadata": {},
   "source": [
    "url = \"D:\\Python 2\\HomeWork\\FormGithub\\PY38SA6L2\\Lecture 08\\online_retail.xlsx\"\n",
    "data1 = pd.read_excel(url,sheet_name='Year 2009-2010')\n",
    "data2 = pd.read_excel(url,sheet_name='Year 2010-2011')\n",
    "data = pd.concat(data1,data2)\n",
    "data.head(2)"
   ]
  },
  {
   "cell_type": "code",
   "execution_count": 3,
   "metadata": {},
   "outputs": [
    {
     "data": {
      "text/plain": [
       "['Year 2009-2010', 'Year 2010-2011']"
      ]
     },
     "execution_count": 3,
     "metadata": {},
     "output_type": "execute_result"
    }
   ],
   "source": [
    "xl = pd.ExcelFile('online_retail.xlsx')\n",
    "xl.sheet_names"
   ]
  },
  {
   "cell_type": "code",
   "execution_count": 4,
   "metadata": {},
   "outputs": [
    {
     "data": {
      "text/html": [
       "<div>\n",
       "<style scoped>\n",
       "    .dataframe tbody tr th:only-of-type {\n",
       "        vertical-align: middle;\n",
       "    }\n",
       "\n",
       "    .dataframe tbody tr th {\n",
       "        vertical-align: top;\n",
       "    }\n",
       "\n",
       "    .dataframe thead th {\n",
       "        text-align: right;\n",
       "    }\n",
       "</style>\n",
       "<table border=\"1\" class=\"dataframe\">\n",
       "  <thead>\n",
       "    <tr style=\"text-align: right;\">\n",
       "      <th></th>\n",
       "      <th>Invoice</th>\n",
       "      <th>StockCode</th>\n",
       "      <th>Description</th>\n",
       "      <th>Quantity</th>\n",
       "      <th>InvoiceDate</th>\n",
       "      <th>Price</th>\n",
       "      <th>Customer ID</th>\n",
       "      <th>Country</th>\n",
       "    </tr>\n",
       "  </thead>\n",
       "  <tbody>\n",
       "    <tr>\n",
       "      <th>0</th>\n",
       "      <td>489434</td>\n",
       "      <td>85048</td>\n",
       "      <td>15CM CHRISTMAS GLASS BALL 20 LIGHTS</td>\n",
       "      <td>12</td>\n",
       "      <td>2009-12-01 07:45:00</td>\n",
       "      <td>6.95</td>\n",
       "      <td>13085.0</td>\n",
       "      <td>United Kingdom</td>\n",
       "    </tr>\n",
       "    <tr>\n",
       "      <th>1</th>\n",
       "      <td>489434</td>\n",
       "      <td>79323P</td>\n",
       "      <td>PINK CHERRY LIGHTS</td>\n",
       "      <td>12</td>\n",
       "      <td>2009-12-01 07:45:00</td>\n",
       "      <td>6.75</td>\n",
       "      <td>13085.0</td>\n",
       "      <td>United Kingdom</td>\n",
       "    </tr>\n",
       "    <tr>\n",
       "      <th>2</th>\n",
       "      <td>489434</td>\n",
       "      <td>79323W</td>\n",
       "      <td>WHITE CHERRY LIGHTS</td>\n",
       "      <td>12</td>\n",
       "      <td>2009-12-01 07:45:00</td>\n",
       "      <td>6.75</td>\n",
       "      <td>13085.0</td>\n",
       "      <td>United Kingdom</td>\n",
       "    </tr>\n",
       "  </tbody>\n",
       "</table>\n",
       "</div>"
      ],
      "text/plain": [
       "  Invoice StockCode                          Description  Quantity  \\\n",
       "0  489434     85048  15CM CHRISTMAS GLASS BALL 20 LIGHTS        12   \n",
       "1  489434    79323P                   PINK CHERRY LIGHTS        12   \n",
       "2  489434    79323W                  WHITE CHERRY LIGHTS        12   \n",
       "\n",
       "          InvoiceDate  Price  Customer ID         Country  \n",
       "0 2009-12-01 07:45:00   6.95      13085.0  United Kingdom  \n",
       "1 2009-12-01 07:45:00   6.75      13085.0  United Kingdom  \n",
       "2 2009-12-01 07:45:00   6.75      13085.0  United Kingdom  "
      ]
     },
     "execution_count": 4,
     "metadata": {},
     "output_type": "execute_result"
    }
   ],
   "source": [
    "data = pd.DataFrame([])\n",
    "sheets = ['Year 2009-2010', 'Year 2010-2011']\n",
    "\n",
    "for i in sheets:\n",
    "    data = pd.concat([data,pd.read_excel('online_retail.xlsx',sheet_name=i)],ignore_index=True)\n",
    "data.head(3)"
   ]
  },
  {
   "cell_type": "code",
   "execution_count": 5,
   "metadata": {},
   "outputs": [
    {
     "data": {
      "text/plain": [
       "5942"
      ]
     },
     "execution_count": 5,
     "metadata": {},
     "output_type": "execute_result"
    }
   ],
   "source": [
    "#2.1 How many customers are there in the dataset?\n",
    "data['Customer ID'].nunique()"
   ]
  },
  {
   "cell_type": "code",
   "execution_count": null,
   "metadata": {},
   "outputs": [],
   "source": []
  },
  {
   "cell_type": "code",
   "execution_count": 6,
   "metadata": {},
   "outputs": [
    {
     "data": {
      "text/plain": [
       "array(['United Kingdom', 'France', 'USA', 'Belgium', 'Australia', 'EIRE',\n",
       "       'Germany', 'Portugal', 'Japan', 'Denmark', 'Nigeria',\n",
       "       'Netherlands', 'Poland', 'Spain', 'Channel Islands', 'Italy',\n",
       "       'Cyprus', 'Greece', 'Norway', 'Austria', 'Sweden',\n",
       "       'United Arab Emirates', 'Finland', 'Switzerland', 'Unspecified',\n",
       "       'Malta', 'Bahrain', 'RSA', 'Bermuda', 'Hong Kong', 'Singapore',\n",
       "       'Thailand', 'Israel', 'Lithuania', 'West Indies', 'Lebanon',\n",
       "       'Korea', 'Brazil', 'Canada', 'Iceland', 'Saudi Arabia',\n",
       "       'Czech Republic', 'European Community'], dtype=object)"
      ]
     },
     "execution_count": 6,
     "metadata": {},
     "output_type": "execute_result"
    }
   ],
   "source": [
    "data['Country'].unique()"
   ]
  },
  {
   "cell_type": "code",
   "execution_count": 7,
   "metadata": {},
   "outputs": [
    {
     "data": {
      "text/plain": [
       "43"
      ]
     },
     "execution_count": 7,
     "metadata": {},
     "output_type": "execute_result"
    }
   ],
   "source": [
    "# How many customers are there in the dataset?\n",
    "data['Country'].nunique()"
   ]
  },
  {
   "cell_type": "code",
   "execution_count": 22,
   "metadata": {},
   "outputs": [],
   "source": [
    "#2.2 Describe the dataset with the necessary information?"
   ]
  },
  {
   "cell_type": "code",
   "execution_count": 8,
   "metadata": {},
   "outputs": [
    {
     "data": {
      "text/html": [
       "<div>\n",
       "<style scoped>\n",
       "    .dataframe tbody tr th:only-of-type {\n",
       "        vertical-align: middle;\n",
       "    }\n",
       "\n",
       "    .dataframe tbody tr th {\n",
       "        vertical-align: top;\n",
       "    }\n",
       "\n",
       "    .dataframe thead th {\n",
       "        text-align: right;\n",
       "    }\n",
       "</style>\n",
       "<table border=\"1\" class=\"dataframe\">\n",
       "  <thead>\n",
       "    <tr style=\"text-align: right;\">\n",
       "      <th></th>\n",
       "      <th>Quantity</th>\n",
       "      <th>Price</th>\n",
       "      <th>Customer ID</th>\n",
       "    </tr>\n",
       "  </thead>\n",
       "  <tbody>\n",
       "    <tr>\n",
       "      <th>count</th>\n",
       "      <td>1.067371e+06</td>\n",
       "      <td>1.067371e+06</td>\n",
       "      <td>824364.000000</td>\n",
       "    </tr>\n",
       "    <tr>\n",
       "      <th>mean</th>\n",
       "      <td>9.938898e+00</td>\n",
       "      <td>4.649388e+00</td>\n",
       "      <td>15324.638504</td>\n",
       "    </tr>\n",
       "    <tr>\n",
       "      <th>std</th>\n",
       "      <td>1.727058e+02</td>\n",
       "      <td>1.235531e+02</td>\n",
       "      <td>1697.464450</td>\n",
       "    </tr>\n",
       "    <tr>\n",
       "      <th>min</th>\n",
       "      <td>-8.099500e+04</td>\n",
       "      <td>-5.359436e+04</td>\n",
       "      <td>12346.000000</td>\n",
       "    </tr>\n",
       "    <tr>\n",
       "      <th>25%</th>\n",
       "      <td>1.000000e+00</td>\n",
       "      <td>1.250000e+00</td>\n",
       "      <td>13975.000000</td>\n",
       "    </tr>\n",
       "    <tr>\n",
       "      <th>50%</th>\n",
       "      <td>3.000000e+00</td>\n",
       "      <td>2.100000e+00</td>\n",
       "      <td>15255.000000</td>\n",
       "    </tr>\n",
       "    <tr>\n",
       "      <th>75%</th>\n",
       "      <td>1.000000e+01</td>\n",
       "      <td>4.150000e+00</td>\n",
       "      <td>16797.000000</td>\n",
       "    </tr>\n",
       "    <tr>\n",
       "      <th>max</th>\n",
       "      <td>8.099500e+04</td>\n",
       "      <td>3.897000e+04</td>\n",
       "      <td>18287.000000</td>\n",
       "    </tr>\n",
       "  </tbody>\n",
       "</table>\n",
       "</div>"
      ],
      "text/plain": [
       "           Quantity         Price    Customer ID\n",
       "count  1.067371e+06  1.067371e+06  824364.000000\n",
       "mean   9.938898e+00  4.649388e+00   15324.638504\n",
       "std    1.727058e+02  1.235531e+02    1697.464450\n",
       "min   -8.099500e+04 -5.359436e+04   12346.000000\n",
       "25%    1.000000e+00  1.250000e+00   13975.000000\n",
       "50%    3.000000e+00  2.100000e+00   15255.000000\n",
       "75%    1.000000e+01  4.150000e+00   16797.000000\n",
       "max    8.099500e+04  3.897000e+04   18287.000000"
      ]
     },
     "execution_count": 8,
     "metadata": {},
     "output_type": "execute_result"
    }
   ],
   "source": [
    "data.describe()"
   ]
  },
  {
   "cell_type": "code",
   "execution_count": 9,
   "metadata": {},
   "outputs": [
    {
     "data": {
      "text/html": [
       "<div>\n",
       "<style scoped>\n",
       "    .dataframe tbody tr th:only-of-type {\n",
       "        vertical-align: middle;\n",
       "    }\n",
       "\n",
       "    .dataframe tbody tr th {\n",
       "        vertical-align: top;\n",
       "    }\n",
       "\n",
       "    .dataframe thead th {\n",
       "        text-align: right;\n",
       "    }\n",
       "</style>\n",
       "<table border=\"1\" class=\"dataframe\">\n",
       "  <thead>\n",
       "    <tr style=\"text-align: right;\">\n",
       "      <th></th>\n",
       "      <th>Invoice</th>\n",
       "      <th>StockCode</th>\n",
       "      <th>Description</th>\n",
       "      <th>Quantity</th>\n",
       "      <th>InvoiceDate</th>\n",
       "      <th>Price</th>\n",
       "      <th>Customer ID</th>\n",
       "      <th>Country</th>\n",
       "    </tr>\n",
       "  </thead>\n",
       "  <tbody>\n",
       "    <tr>\n",
       "      <th>178</th>\n",
       "      <td>C489449</td>\n",
       "      <td>22087</td>\n",
       "      <td>PAPER BUNTING WHITE LACE</td>\n",
       "      <td>-12</td>\n",
       "      <td>2009-12-01 10:33:00</td>\n",
       "      <td>2.95</td>\n",
       "      <td>16321.0</td>\n",
       "      <td>Australia</td>\n",
       "    </tr>\n",
       "    <tr>\n",
       "      <th>179</th>\n",
       "      <td>C489449</td>\n",
       "      <td>85206A</td>\n",
       "      <td>CREAM FELT EASTER EGG BASKET</td>\n",
       "      <td>-6</td>\n",
       "      <td>2009-12-01 10:33:00</td>\n",
       "      <td>1.65</td>\n",
       "      <td>16321.0</td>\n",
       "      <td>Australia</td>\n",
       "    </tr>\n",
       "    <tr>\n",
       "      <th>180</th>\n",
       "      <td>C489449</td>\n",
       "      <td>21895</td>\n",
       "      <td>POTTING SHED SOW 'N' GROW SET</td>\n",
       "      <td>-4</td>\n",
       "      <td>2009-12-01 10:33:00</td>\n",
       "      <td>4.25</td>\n",
       "      <td>16321.0</td>\n",
       "      <td>Australia</td>\n",
       "    </tr>\n",
       "    <tr>\n",
       "      <th>181</th>\n",
       "      <td>C489449</td>\n",
       "      <td>21896</td>\n",
       "      <td>POTTING SHED TWINE</td>\n",
       "      <td>-6</td>\n",
       "      <td>2009-12-01 10:33:00</td>\n",
       "      <td>2.10</td>\n",
       "      <td>16321.0</td>\n",
       "      <td>Australia</td>\n",
       "    </tr>\n",
       "    <tr>\n",
       "      <th>182</th>\n",
       "      <td>C489449</td>\n",
       "      <td>22083</td>\n",
       "      <td>PAPER CHAIN KIT RETRO SPOT</td>\n",
       "      <td>-12</td>\n",
       "      <td>2009-12-01 10:33:00</td>\n",
       "      <td>2.95</td>\n",
       "      <td>16321.0</td>\n",
       "      <td>Australia</td>\n",
       "    </tr>\n",
       "    <tr>\n",
       "      <th>...</th>\n",
       "      <td>...</td>\n",
       "      <td>...</td>\n",
       "      <td>...</td>\n",
       "      <td>...</td>\n",
       "      <td>...</td>\n",
       "      <td>...</td>\n",
       "      <td>...</td>\n",
       "      <td>...</td>\n",
       "    </tr>\n",
       "    <tr>\n",
       "      <th>1065910</th>\n",
       "      <td>C581490</td>\n",
       "      <td>23144</td>\n",
       "      <td>ZINC T-LIGHT HOLDER STARS SMALL</td>\n",
       "      <td>-11</td>\n",
       "      <td>2011-12-09 09:57:00</td>\n",
       "      <td>0.83</td>\n",
       "      <td>14397.0</td>\n",
       "      <td>United Kingdom</td>\n",
       "    </tr>\n",
       "    <tr>\n",
       "      <th>1067002</th>\n",
       "      <td>C581499</td>\n",
       "      <td>M</td>\n",
       "      <td>Manual</td>\n",
       "      <td>-1</td>\n",
       "      <td>2011-12-09 10:28:00</td>\n",
       "      <td>224.69</td>\n",
       "      <td>15498.0</td>\n",
       "      <td>United Kingdom</td>\n",
       "    </tr>\n",
       "    <tr>\n",
       "      <th>1067176</th>\n",
       "      <td>C581568</td>\n",
       "      <td>21258</td>\n",
       "      <td>VICTORIAN SEWING BOX LARGE</td>\n",
       "      <td>-5</td>\n",
       "      <td>2011-12-09 11:57:00</td>\n",
       "      <td>10.95</td>\n",
       "      <td>15311.0</td>\n",
       "      <td>United Kingdom</td>\n",
       "    </tr>\n",
       "    <tr>\n",
       "      <th>1067177</th>\n",
       "      <td>C581569</td>\n",
       "      <td>84978</td>\n",
       "      <td>HANGING HEART JAR T-LIGHT HOLDER</td>\n",
       "      <td>-1</td>\n",
       "      <td>2011-12-09 11:58:00</td>\n",
       "      <td>1.25</td>\n",
       "      <td>17315.0</td>\n",
       "      <td>United Kingdom</td>\n",
       "    </tr>\n",
       "    <tr>\n",
       "      <th>1067178</th>\n",
       "      <td>C581569</td>\n",
       "      <td>20979</td>\n",
       "      <td>36 PENCILS TUBE RED RETROSPOT</td>\n",
       "      <td>-5</td>\n",
       "      <td>2011-12-09 11:58:00</td>\n",
       "      <td>1.25</td>\n",
       "      <td>17315.0</td>\n",
       "      <td>United Kingdom</td>\n",
       "    </tr>\n",
       "  </tbody>\n",
       "</table>\n",
       "<p>22950 rows × 8 columns</p>\n",
       "</div>"
      ],
      "text/plain": [
       "         Invoice StockCode                       Description  Quantity  \\\n",
       "178      C489449     22087          PAPER BUNTING WHITE LACE       -12   \n",
       "179      C489449    85206A      CREAM FELT EASTER EGG BASKET        -6   \n",
       "180      C489449     21895     POTTING SHED SOW 'N' GROW SET        -4   \n",
       "181      C489449     21896                POTTING SHED TWINE        -6   \n",
       "182      C489449     22083        PAPER CHAIN KIT RETRO SPOT       -12   \n",
       "...          ...       ...                               ...       ...   \n",
       "1065910  C581490     23144   ZINC T-LIGHT HOLDER STARS SMALL       -11   \n",
       "1067002  C581499         M                            Manual        -1   \n",
       "1067176  C581568     21258        VICTORIAN SEWING BOX LARGE        -5   \n",
       "1067177  C581569     84978  HANGING HEART JAR T-LIGHT HOLDER        -1   \n",
       "1067178  C581569     20979     36 PENCILS TUBE RED RETROSPOT        -5   \n",
       "\n",
       "                InvoiceDate   Price  Customer ID         Country  \n",
       "178     2009-12-01 10:33:00    2.95      16321.0       Australia  \n",
       "179     2009-12-01 10:33:00    1.65      16321.0       Australia  \n",
       "180     2009-12-01 10:33:00    4.25      16321.0       Australia  \n",
       "181     2009-12-01 10:33:00    2.10      16321.0       Australia  \n",
       "182     2009-12-01 10:33:00    2.95      16321.0       Australia  \n",
       "...                     ...     ...          ...             ...  \n",
       "1065910 2011-12-09 09:57:00    0.83      14397.0  United Kingdom  \n",
       "1067002 2011-12-09 10:28:00  224.69      15498.0  United Kingdom  \n",
       "1067176 2011-12-09 11:57:00   10.95      15311.0  United Kingdom  \n",
       "1067177 2011-12-09 11:58:00    1.25      17315.0  United Kingdom  \n",
       "1067178 2011-12-09 11:58:00    1.25      17315.0  United Kingdom  \n",
       "\n",
       "[22950 rows x 8 columns]"
      ]
     },
     "execution_count": 9,
     "metadata": {},
     "output_type": "execute_result"
    }
   ],
   "source": [
    "data[data['Quantity']<0]"
   ]
  },
  {
   "cell_type": "code",
   "execution_count": 28,
   "metadata": {},
   "outputs": [
    {
     "data": {
      "text/plain": [
       "Invoice        11684\n",
       "StockCode       4089\n",
       "Description     3300\n",
       "Quantity         493\n",
       "InvoiceDate    10709\n",
       "Price           1006\n",
       "Customer ID     2572\n",
       "Country           36\n",
       "dtype: int64"
      ]
     },
     "execution_count": 28,
     "metadata": {},
     "output_type": "execute_result"
    }
   ],
   "source": [
    "data[data['Quantity']<0].nunique()"
   ]
  },
  {
   "cell_type": "code",
   "execution_count": 10,
   "metadata": {},
   "outputs": [
    {
     "data": {
      "text/html": [
       "<div>\n",
       "<style scoped>\n",
       "    .dataframe tbody tr th:only-of-type {\n",
       "        vertical-align: middle;\n",
       "    }\n",
       "\n",
       "    .dataframe tbody tr th {\n",
       "        vertical-align: top;\n",
       "    }\n",
       "\n",
       "    .dataframe thead th {\n",
       "        text-align: right;\n",
       "    }\n",
       "</style>\n",
       "<table border=\"1\" class=\"dataframe\">\n",
       "  <thead>\n",
       "    <tr style=\"text-align: right;\">\n",
       "      <th></th>\n",
       "      <th>Invoice</th>\n",
       "      <th>StockCode</th>\n",
       "      <th>Description</th>\n",
       "      <th>Quantity</th>\n",
       "      <th>InvoiceDate</th>\n",
       "      <th>Price</th>\n",
       "      <th>Customer ID</th>\n",
       "      <th>Country</th>\n",
       "    </tr>\n",
       "  </thead>\n",
       "  <tbody>\n",
       "    <tr>\n",
       "      <th>179403</th>\n",
       "      <td>A506401</td>\n",
       "      <td>B</td>\n",
       "      <td>Adjust bad debt</td>\n",
       "      <td>1</td>\n",
       "      <td>2010-04-29 13:36:00</td>\n",
       "      <td>-53594.36</td>\n",
       "      <td>NaN</td>\n",
       "      <td>United Kingdom</td>\n",
       "    </tr>\n",
       "    <tr>\n",
       "      <th>276274</th>\n",
       "      <td>A516228</td>\n",
       "      <td>B</td>\n",
       "      <td>Adjust bad debt</td>\n",
       "      <td>1</td>\n",
       "      <td>2010-07-19 11:24:00</td>\n",
       "      <td>-44031.79</td>\n",
       "      <td>NaN</td>\n",
       "      <td>United Kingdom</td>\n",
       "    </tr>\n",
       "    <tr>\n",
       "      <th>403472</th>\n",
       "      <td>A528059</td>\n",
       "      <td>B</td>\n",
       "      <td>Adjust bad debt</td>\n",
       "      <td>1</td>\n",
       "      <td>2010-10-20 12:04:00</td>\n",
       "      <td>-38925.87</td>\n",
       "      <td>NaN</td>\n",
       "      <td>United Kingdom</td>\n",
       "    </tr>\n",
       "    <tr>\n",
       "      <th>825444</th>\n",
       "      <td>A563186</td>\n",
       "      <td>B</td>\n",
       "      <td>Adjust bad debt</td>\n",
       "      <td>1</td>\n",
       "      <td>2011-08-12 14:51:00</td>\n",
       "      <td>-11062.06</td>\n",
       "      <td>NaN</td>\n",
       "      <td>United Kingdom</td>\n",
       "    </tr>\n",
       "    <tr>\n",
       "      <th>825445</th>\n",
       "      <td>A563187</td>\n",
       "      <td>B</td>\n",
       "      <td>Adjust bad debt</td>\n",
       "      <td>1</td>\n",
       "      <td>2011-08-12 14:52:00</td>\n",
       "      <td>-11062.06</td>\n",
       "      <td>NaN</td>\n",
       "      <td>United Kingdom</td>\n",
       "    </tr>\n",
       "  </tbody>\n",
       "</table>\n",
       "</div>"
      ],
      "text/plain": [
       "        Invoice StockCode      Description  Quantity         InvoiceDate  \\\n",
       "179403  A506401         B  Adjust bad debt         1 2010-04-29 13:36:00   \n",
       "276274  A516228         B  Adjust bad debt         1 2010-07-19 11:24:00   \n",
       "403472  A528059         B  Adjust bad debt         1 2010-10-20 12:04:00   \n",
       "825444  A563186         B  Adjust bad debt         1 2011-08-12 14:51:00   \n",
       "825445  A563187         B  Adjust bad debt         1 2011-08-12 14:52:00   \n",
       "\n",
       "           Price  Customer ID         Country  \n",
       "179403 -53594.36          NaN  United Kingdom  \n",
       "276274 -44031.79          NaN  United Kingdom  \n",
       "403472 -38925.87          NaN  United Kingdom  \n",
       "825444 -11062.06          NaN  United Kingdom  \n",
       "825445 -11062.06          NaN  United Kingdom  "
      ]
     },
     "execution_count": 10,
     "metadata": {},
     "output_type": "execute_result"
    }
   ],
   "source": [
    "data[data['Price']<0]"
   ]
  },
  {
   "cell_type": "code",
   "execution_count": 11,
   "metadata": {},
   "outputs": [
    {
     "data": {
      "text/plain": [
       "Invoice        5\n",
       "StockCode      1\n",
       "Description    1\n",
       "Quantity       1\n",
       "InvoiceDate    5\n",
       "Price          4\n",
       "Customer ID    0\n",
       "Country        1\n",
       "dtype: int64"
      ]
     },
     "execution_count": 11,
     "metadata": {},
     "output_type": "execute_result"
    }
   ],
   "source": [
    "data[data['Price']<0].nunique()"
   ]
  },
  {
   "cell_type": "code",
   "execution_count": 12,
   "metadata": {},
   "outputs": [
    {
     "data": {
      "text/html": [
       "<div>\n",
       "<style scoped>\n",
       "    .dataframe tbody tr th:only-of-type {\n",
       "        vertical-align: middle;\n",
       "    }\n",
       "\n",
       "    .dataframe tbody tr th {\n",
       "        vertical-align: top;\n",
       "    }\n",
       "\n",
       "    .dataframe thead th {\n",
       "        text-align: right;\n",
       "    }\n",
       "</style>\n",
       "<table border=\"1\" class=\"dataframe\">\n",
       "  <thead>\n",
       "    <tr style=\"text-align: right;\">\n",
       "      <th></th>\n",
       "      <th>StockCode</th>\n",
       "      <th>Description</th>\n",
       "      <th>Country</th>\n",
       "    </tr>\n",
       "  </thead>\n",
       "  <tbody>\n",
       "    <tr>\n",
       "      <th>count</th>\n",
       "      <td>1067371</td>\n",
       "      <td>1062989</td>\n",
       "      <td>1067371</td>\n",
       "    </tr>\n",
       "    <tr>\n",
       "      <th>unique</th>\n",
       "      <td>5305</td>\n",
       "      <td>5698</td>\n",
       "      <td>43</td>\n",
       "    </tr>\n",
       "    <tr>\n",
       "      <th>top</th>\n",
       "      <td>85123A</td>\n",
       "      <td>WHITE HANGING HEART T-LIGHT HOLDER</td>\n",
       "      <td>United Kingdom</td>\n",
       "    </tr>\n",
       "    <tr>\n",
       "      <th>freq</th>\n",
       "      <td>5829</td>\n",
       "      <td>5918</td>\n",
       "      <td>981330</td>\n",
       "    </tr>\n",
       "  </tbody>\n",
       "</table>\n",
       "</div>"
      ],
      "text/plain": [
       "       StockCode                         Description         Country\n",
       "count    1067371                             1062989         1067371\n",
       "unique      5305                                5698              43\n",
       "top       85123A  WHITE HANGING HEART T-LIGHT HOLDER  United Kingdom\n",
       "freq        5829                                5918          981330"
      ]
     },
     "execution_count": 12,
     "metadata": {},
     "output_type": "execute_result"
    }
   ],
   "source": [
    "data[['StockCode','Description','Country']].describe()"
   ]
  },
  {
   "cell_type": "code",
   "execution_count": 13,
   "metadata": {},
   "outputs": [
    {
     "name": "stdout",
     "output_type": "stream",
     "text": [
      "<class 'pandas.core.frame.DataFrame'>\n",
      "RangeIndex: 1067371 entries, 0 to 1067370\n",
      "Data columns (total 8 columns):\n",
      " #   Column       Non-Null Count    Dtype         \n",
      "---  ------       --------------    -----         \n",
      " 0   Invoice      1067371 non-null  object        \n",
      " 1   StockCode    1067371 non-null  object        \n",
      " 2   Description  1062989 non-null  object        \n",
      " 3   Quantity     1067371 non-null  int64         \n",
      " 4   InvoiceDate  1067371 non-null  datetime64[ns]\n",
      " 5   Price        1067371 non-null  float64       \n",
      " 6   Customer ID  824364 non-null   float64       \n",
      " 7   Country      1067371 non-null  object        \n",
      "dtypes: datetime64[ns](1), float64(2), int64(1), object(4)\n",
      "memory usage: 65.1+ MB\n"
     ]
    }
   ],
   "source": [
    "data.info()"
   ]
  },
  {
   "cell_type": "code",
   "execution_count": 14,
   "metadata": {},
   "outputs": [
    {
     "data": {
      "text/plain": [
       "Invoice        0.000000\n",
       "StockCode      0.000000\n",
       "Description    0.004105\n",
       "Quantity       0.000000\n",
       "InvoiceDate    0.000000\n",
       "Price          0.000000\n",
       "Customer ID    0.227669\n",
       "Country        0.000000\n",
       "dtype: float64"
      ]
     },
     "execution_count": 14,
     "metadata": {},
     "output_type": "execute_result"
    }
   ],
   "source": [
    "data.isna().sum()/len(data)"
   ]
  },
  {
   "cell_type": "code",
   "execution_count": 15,
   "metadata": {},
   "outputs": [
    {
     "data": {
      "text/plain": [
       "Invoice        53628\n",
       "StockCode       5305\n",
       "Description     5698\n",
       "Quantity        1057\n",
       "InvoiceDate    47635\n",
       "Price           2807\n",
       "Customer ID     5942\n",
       "Country           43\n",
       "dtype: int64"
      ]
     },
     "execution_count": 15,
     "metadata": {},
     "output_type": "execute_result"
    }
   ],
   "source": [
    "data.nunique()"
   ]
  },
  {
   "cell_type": "code",
   "execution_count": 16,
   "metadata": {},
   "outputs": [
    {
     "data": {
      "text/plain": [
       "<AxesSubplot:>"
      ]
     },
     "execution_count": 16,
     "metadata": {},
     "output_type": "execute_result"
    },
    {
     "data": {
      "image/png": "[encoded data removed]",
      "text/plain": [
       "<Figure size 432x288 with 1 Axes>"
      ]
     },
     "metadata": {
      "needs_background": "light"
     },
     "output_type": "display_data"
    }
   ],
   "source": [
    "sns.boxplot(data=data[['Quantity','Price']])"
   ]
  },
  {
   "cell_type": "code",
   "execution_count": 17,
   "metadata": {},
   "outputs": [
    {
     "data": {
      "text/plain": [
       "34335"
      ]
     },
     "execution_count": 17,
     "metadata": {},
     "output_type": "execute_result"
    }
   ],
   "source": [
    "data.duplicated().sum()"
   ]
  },
  {
   "cell_type": "code",
   "execution_count": 18,
   "metadata": {},
   "outputs": [
    {
     "data": {
      "text/html": [
       "<div>\n",
       "<style scoped>\n",
       "    .dataframe tbody tr th:only-of-type {\n",
       "        vertical-align: middle;\n",
       "    }\n",
       "\n",
       "    .dataframe tbody tr th {\n",
       "        vertical-align: top;\n",
       "    }\n",
       "\n",
       "    .dataframe thead th {\n",
       "        text-align: right;\n",
       "    }\n",
       "</style>\n",
       "<table border=\"1\" class=\"dataframe\">\n",
       "  <thead>\n",
       "    <tr style=\"text-align: right;\">\n",
       "      <th></th>\n",
       "      <th>Invoice</th>\n",
       "      <th>StockCode</th>\n",
       "      <th>Description</th>\n",
       "      <th>Quantity</th>\n",
       "      <th>InvoiceDate</th>\n",
       "      <th>Price</th>\n",
       "      <th>Customer ID</th>\n",
       "      <th>Country</th>\n",
       "    </tr>\n",
       "  </thead>\n",
       "  <tbody>\n",
       "    <tr>\n",
       "      <th>2697</th>\n",
       "      <td>489609</td>\n",
       "      <td>M</td>\n",
       "      <td>Manual</td>\n",
       "      <td>1</td>\n",
       "      <td>2009-12-01 14:50:00</td>\n",
       "      <td>4.00</td>\n",
       "      <td>NaN</td>\n",
       "      <td>United Kingdom</td>\n",
       "    </tr>\n",
       "    <tr>\n",
       "      <th>3053</th>\n",
       "      <td>C489651</td>\n",
       "      <td>M</td>\n",
       "      <td>Manual</td>\n",
       "      <td>-1</td>\n",
       "      <td>2009-12-01 16:48:00</td>\n",
       "      <td>5.10</td>\n",
       "      <td>17804.0</td>\n",
       "      <td>United Kingdom</td>\n",
       "    </tr>\n",
       "    <tr>\n",
       "      <th>5897</th>\n",
       "      <td>C489859</td>\n",
       "      <td>M</td>\n",
       "      <td>Manual</td>\n",
       "      <td>-1</td>\n",
       "      <td>2009-12-02 14:45:00</td>\n",
       "      <td>69.57</td>\n",
       "      <td>NaN</td>\n",
       "      <td>United Kingdom</td>\n",
       "    </tr>\n",
       "    <tr>\n",
       "      <th>9259</th>\n",
       "      <td>C490126</td>\n",
       "      <td>M</td>\n",
       "      <td>Manual</td>\n",
       "      <td>-1</td>\n",
       "      <td>2009-12-03 18:12:00</td>\n",
       "      <td>5.95</td>\n",
       "      <td>15884.0</td>\n",
       "      <td>United Kingdom</td>\n",
       "    </tr>\n",
       "    <tr>\n",
       "      <th>9307</th>\n",
       "      <td>C490129</td>\n",
       "      <td>M</td>\n",
       "      <td>Manual</td>\n",
       "      <td>-1</td>\n",
       "      <td>2009-12-03 18:26:00</td>\n",
       "      <td>1998.49</td>\n",
       "      <td>15482.0</td>\n",
       "      <td>United Kingdom</td>\n",
       "    </tr>\n",
       "    <tr>\n",
       "      <th>...</th>\n",
       "      <td>...</td>\n",
       "      <td>...</td>\n",
       "      <td>...</td>\n",
       "      <td>...</td>\n",
       "      <td>...</td>\n",
       "      <td>...</td>\n",
       "      <td>...</td>\n",
       "      <td>...</td>\n",
       "    </tr>\n",
       "    <tr>\n",
       "      <th>1056893</th>\n",
       "      <td>580956</td>\n",
       "      <td>M</td>\n",
       "      <td>Manual</td>\n",
       "      <td>4</td>\n",
       "      <td>2011-12-06 14:23:00</td>\n",
       "      <td>1.25</td>\n",
       "      <td>17841.0</td>\n",
       "      <td>United Kingdom</td>\n",
       "    </tr>\n",
       "    <tr>\n",
       "      <th>1058543</th>\n",
       "      <td>C581009</td>\n",
       "      <td>M</td>\n",
       "      <td>Manual</td>\n",
       "      <td>-1</td>\n",
       "      <td>2011-12-07 09:15:00</td>\n",
       "      <td>125.00</td>\n",
       "      <td>16971.0</td>\n",
       "      <td>United Kingdom</td>\n",
       "    </tr>\n",
       "    <tr>\n",
       "      <th>1059769</th>\n",
       "      <td>C581145</td>\n",
       "      <td>M</td>\n",
       "      <td>Manual</td>\n",
       "      <td>-1</td>\n",
       "      <td>2011-12-07 13:48:00</td>\n",
       "      <td>9.95</td>\n",
       "      <td>17490.0</td>\n",
       "      <td>United Kingdom</td>\n",
       "    </tr>\n",
       "    <tr>\n",
       "      <th>1063782</th>\n",
       "      <td>581405</td>\n",
       "      <td>M</td>\n",
       "      <td>Manual</td>\n",
       "      <td>3</td>\n",
       "      <td>2011-12-08 13:50:00</td>\n",
       "      <td>0.42</td>\n",
       "      <td>13521.0</td>\n",
       "      <td>United Kingdom</td>\n",
       "    </tr>\n",
       "    <tr>\n",
       "      <th>1067002</th>\n",
       "      <td>C581499</td>\n",
       "      <td>M</td>\n",
       "      <td>Manual</td>\n",
       "      <td>-1</td>\n",
       "      <td>2011-12-09 10:28:00</td>\n",
       "      <td>224.69</td>\n",
       "      <td>15498.0</td>\n",
       "      <td>United Kingdom</td>\n",
       "    </tr>\n",
       "  </tbody>\n",
       "</table>\n",
       "<p>1421 rows × 8 columns</p>\n",
       "</div>"
      ],
      "text/plain": [
       "         Invoice StockCode Description  Quantity         InvoiceDate    Price  \\\n",
       "2697      489609         M      Manual         1 2009-12-01 14:50:00     4.00   \n",
       "3053     C489651         M      Manual        -1 2009-12-01 16:48:00     5.10   \n",
       "5897     C489859         M      Manual        -1 2009-12-02 14:45:00    69.57   \n",
       "9259     C490126         M      Manual        -1 2009-12-03 18:12:00     5.95   \n",
       "9307     C490129         M      Manual        -1 2009-12-03 18:26:00  1998.49   \n",
       "...          ...       ...         ...       ...                 ...      ...   \n",
       "1056893   580956         M      Manual         4 2011-12-06 14:23:00     1.25   \n",
       "1058543  C581009         M      Manual        -1 2011-12-07 09:15:00   125.00   \n",
       "1059769  C581145         M      Manual        -1 2011-12-07 13:48:00     9.95   \n",
       "1063782   581405         M      Manual         3 2011-12-08 13:50:00     0.42   \n",
       "1067002  C581499         M      Manual        -1 2011-12-09 10:28:00   224.69   \n",
       "\n",
       "         Customer ID         Country  \n",
       "2697             NaN  United Kingdom  \n",
       "3053         17804.0  United Kingdom  \n",
       "5897             NaN  United Kingdom  \n",
       "9259         15884.0  United Kingdom  \n",
       "9307         15482.0  United Kingdom  \n",
       "...              ...             ...  \n",
       "1056893      17841.0  United Kingdom  \n",
       "1058543      16971.0  United Kingdom  \n",
       "1059769      17490.0  United Kingdom  \n",
       "1063782      13521.0  United Kingdom  \n",
       "1067002      15498.0  United Kingdom  \n",
       "\n",
       "[1421 rows x 8 columns]"
      ]
     },
     "execution_count": 18,
     "metadata": {},
     "output_type": "execute_result"
    }
   ],
   "source": [
    "data[data['StockCode'].isin(['TEST','M'])]"
   ]
  },
  {
   "cell_type": "raw",
   "metadata": {},
   "source": [
    "### 3"
   ]
  },
  {
   "cell_type": "code",
   "execution_count": 19,
   "metadata": {},
   "outputs": [
    {
     "data": {
      "text/plain": [
       "9.0"
      ]
     },
     "execution_count": 19,
     "metadata": {},
     "output_type": "execute_result"
    }
   ],
   "source": [
    "q1 = data['Quantity'].quantile(0.25)\n",
    "q2 = data['Quantity'].quantile(0.75)\n",
    "IQR = q2 - q1\n",
    "IQR"
   ]
  },
  {
   "cell_type": "code",
   "execution_count": 20,
   "metadata": {},
   "outputs": [],
   "source": [
    "max_limit = q2 + 1.5*IQR\n",
    "min_limit = q1 - 1.5*IQR"
   ]
  },
  {
   "cell_type": "code",
   "execution_count": 21,
   "metadata": {},
   "outputs": [
    {
     "data": {
      "text/html": [
       "<div>\n",
       "<style scoped>\n",
       "    .dataframe tbody tr th:only-of-type {\n",
       "        vertical-align: middle;\n",
       "    }\n",
       "\n",
       "    .dataframe tbody tr th {\n",
       "        vertical-align: top;\n",
       "    }\n",
       "\n",
       "    .dataframe thead th {\n",
       "        text-align: right;\n",
       "    }\n",
       "</style>\n",
       "<table border=\"1\" class=\"dataframe\">\n",
       "  <thead>\n",
       "    <tr style=\"text-align: right;\">\n",
       "      <th></th>\n",
       "      <th>Invoice</th>\n",
       "      <th>StockCode</th>\n",
       "      <th>Description</th>\n",
       "      <th>Quantity</th>\n",
       "      <th>InvoiceDate</th>\n",
       "      <th>Price</th>\n",
       "      <th>Customer ID</th>\n",
       "      <th>Country</th>\n",
       "      <th>Quantity_R0</th>\n",
       "    </tr>\n",
       "  </thead>\n",
       "  <tbody>\n",
       "    <tr>\n",
       "      <th>0</th>\n",
       "      <td>489434</td>\n",
       "      <td>85048</td>\n",
       "      <td>15CM CHRISTMAS GLASS BALL 20 LIGHTS</td>\n",
       "      <td>12</td>\n",
       "      <td>2009-12-01 07:45:00</td>\n",
       "      <td>6.95</td>\n",
       "      <td>13085.0</td>\n",
       "      <td>United Kingdom</td>\n",
       "      <td>12.0</td>\n",
       "    </tr>\n",
       "    <tr>\n",
       "      <th>1</th>\n",
       "      <td>489434</td>\n",
       "      <td>79323P</td>\n",
       "      <td>PINK CHERRY LIGHTS</td>\n",
       "      <td>12</td>\n",
       "      <td>2009-12-01 07:45:00</td>\n",
       "      <td>6.75</td>\n",
       "      <td>13085.0</td>\n",
       "      <td>United Kingdom</td>\n",
       "      <td>12.0</td>\n",
       "    </tr>\n",
       "    <tr>\n",
       "      <th>2</th>\n",
       "      <td>489434</td>\n",
       "      <td>79323W</td>\n",
       "      <td>WHITE CHERRY LIGHTS</td>\n",
       "      <td>12</td>\n",
       "      <td>2009-12-01 07:45:00</td>\n",
       "      <td>6.75</td>\n",
       "      <td>13085.0</td>\n",
       "      <td>United Kingdom</td>\n",
       "      <td>12.0</td>\n",
       "    </tr>\n",
       "  </tbody>\n",
       "</table>\n",
       "</div>"
      ],
      "text/plain": [
       "  Invoice StockCode                          Description  Quantity  \\\n",
       "0  489434     85048  15CM CHRISTMAS GLASS BALL 20 LIGHTS        12   \n",
       "1  489434    79323P                   PINK CHERRY LIGHTS        12   \n",
       "2  489434    79323W                  WHITE CHERRY LIGHTS        12   \n",
       "\n",
       "          InvoiceDate  Price  Customer ID         Country  Quantity_R0  \n",
       "0 2009-12-01 07:45:00   6.95      13085.0  United Kingdom         12.0  \n",
       "1 2009-12-01 07:45:00   6.75      13085.0  United Kingdom         12.0  \n",
       "2 2009-12-01 07:45:00   6.75      13085.0  United Kingdom         12.0  "
      ]
     },
     "execution_count": 21,
     "metadata": {},
     "output_type": "execute_result"
    }
   ],
   "source": [
    "data['Quantity_R0']=pd.DataFrame(np.where(data['Quantity']>max_limit,max_limit,(np.where(data['Quantity']<min_limit,min_limit,data['Quantity']))))\n",
    "data.head(3)"
   ]
  },
  {
   "cell_type": "code",
   "execution_count": 22,
   "metadata": {},
   "outputs": [
    {
     "data": {
      "text/plain": [
       "<AxesSubplot:>"
      ]
     },
     "execution_count": 22,
     "metadata": {},
     "output_type": "execute_result"
    },
    {
     "data": {
      "image/png": "[encoded data removed]",
      "text/plain": [
       "<Figure size 432x288 with 1 Axes>"
      ]
     },
     "metadata": {
      "needs_background": "light"
     },
     "output_type": "display_data"
    }
   ],
   "source": [
    "sns.boxplot(data=data['Quantity_R0'])"
   ]
  },
  {
   "cell_type": "code",
   "execution_count": 23,
   "metadata": {},
   "outputs": [
    {
     "data": {
      "text/html": [
       "<div>\n",
       "<style scoped>\n",
       "    .dataframe tbody tr th:only-of-type {\n",
       "        vertical-align: middle;\n",
       "    }\n",
       "\n",
       "    .dataframe tbody tr th {\n",
       "        vertical-align: top;\n",
       "    }\n",
       "\n",
       "    .dataframe thead th {\n",
       "        text-align: right;\n",
       "    }\n",
       "</style>\n",
       "<table border=\"1\" class=\"dataframe\">\n",
       "  <thead>\n",
       "    <tr style=\"text-align: right;\">\n",
       "      <th></th>\n",
       "      <th>Invoice</th>\n",
       "      <th>StockCode</th>\n",
       "      <th>Description</th>\n",
       "      <th>Quantity</th>\n",
       "      <th>InvoiceDate</th>\n",
       "      <th>Price</th>\n",
       "      <th>Customer ID</th>\n",
       "      <th>Country</th>\n",
       "      <th>Quantity_R0</th>\n",
       "      <th>Price_R0</th>\n",
       "    </tr>\n",
       "  </thead>\n",
       "  <tbody>\n",
       "    <tr>\n",
       "      <th>0</th>\n",
       "      <td>489434</td>\n",
       "      <td>85048</td>\n",
       "      <td>15CM CHRISTMAS GLASS BALL 20 LIGHTS</td>\n",
       "      <td>12</td>\n",
       "      <td>2009-12-01 07:45:00</td>\n",
       "      <td>6.95</td>\n",
       "      <td>13085.0</td>\n",
       "      <td>United Kingdom</td>\n",
       "      <td>12.0</td>\n",
       "      <td>6.95</td>\n",
       "    </tr>\n",
       "    <tr>\n",
       "      <th>1</th>\n",
       "      <td>489434</td>\n",
       "      <td>79323P</td>\n",
       "      <td>PINK CHERRY LIGHTS</td>\n",
       "      <td>12</td>\n",
       "      <td>2009-12-01 07:45:00</td>\n",
       "      <td>6.75</td>\n",
       "      <td>13085.0</td>\n",
       "      <td>United Kingdom</td>\n",
       "      <td>12.0</td>\n",
       "      <td>6.75</td>\n",
       "    </tr>\n",
       "    <tr>\n",
       "      <th>2</th>\n",
       "      <td>489434</td>\n",
       "      <td>79323W</td>\n",
       "      <td>WHITE CHERRY LIGHTS</td>\n",
       "      <td>12</td>\n",
       "      <td>2009-12-01 07:45:00</td>\n",
       "      <td>6.75</td>\n",
       "      <td>13085.0</td>\n",
       "      <td>United Kingdom</td>\n",
       "      <td>12.0</td>\n",
       "      <td>6.75</td>\n",
       "    </tr>\n",
       "  </tbody>\n",
       "</table>\n",
       "</div>"
      ],
      "text/plain": [
       "  Invoice StockCode                          Description  Quantity  \\\n",
       "0  489434     85048  15CM CHRISTMAS GLASS BALL 20 LIGHTS        12   \n",
       "1  489434    79323P                   PINK CHERRY LIGHTS        12   \n",
       "2  489434    79323W                  WHITE CHERRY LIGHTS        12   \n",
       "\n",
       "          InvoiceDate  Price  Customer ID         Country  Quantity_R0  \\\n",
       "0 2009-12-01 07:45:00   6.95      13085.0  United Kingdom         12.0   \n",
       "1 2009-12-01 07:45:00   6.75      13085.0  United Kingdom         12.0   \n",
       "2 2009-12-01 07:45:00   6.75      13085.0  United Kingdom         12.0   \n",
       "\n",
       "   Price_R0  \n",
       "0      6.95  \n",
       "1      6.75  \n",
       "2      6.75  "
      ]
     },
     "execution_count": 23,
     "metadata": {},
     "output_type": "execute_result"
    }
   ],
   "source": [
    "q1 = data['Price'].quantile(0.25)\n",
    "q2 = data['Price'].quantile(0.75)\n",
    "IQR = q2 - q1\n",
    "IQR\n",
    "max_limit = q2 + 1.5*IQR\n",
    "min_limit = q1 - 1.5*IQR\n",
    "\n",
    "data['Price_R0']=pd.DataFrame(np.where(data['Price']>max_limit,max_limit,(np.where(data['Price']<min_limit,min_limit,data['Price']))))\n",
    "data.head(3)"
   ]
  },
  {
   "cell_type": "code",
   "execution_count": 24,
   "metadata": {},
   "outputs": [
    {
     "data": {
      "text/plain": [
       "<AxesSubplot:>"
      ]
     },
     "execution_count": 24,
     "metadata": {},
     "output_type": "execute_result"
    },
    {
     "data": {
      "image/png": "[encoded data removed]",
      "text/plain": [
       "<Figure size 432x288 with 1 Axes>"
      ]
     },
     "metadata": {
      "needs_background": "light"
     },
     "output_type": "display_data"
    }
   ],
   "source": [
    "sns.boxplot(data=data[['Quantity_R0','Price_R0']])"
   ]
  },
  {
   "cell_type": "code",
   "execution_count": 25,
   "metadata": {},
   "outputs": [
    {
     "name": "stdout",
     "output_type": "stream",
     "text": [
      "<class 'pandas.core.frame.DataFrame'>\n",
      "Int64Index: 824364 entries, 0 to 1067370\n",
      "Data columns (total 10 columns):\n",
      " #   Column       Non-Null Count   Dtype         \n",
      "---  ------       --------------   -----         \n",
      " 0   Invoice      824364 non-null  object        \n",
      " 1   StockCode    824364 non-null  object        \n",
      " 2   Description  824364 non-null  object        \n",
      " 3   Quantity     824364 non-null  int64         \n",
      " 4   InvoiceDate  824364 non-null  datetime64[ns]\n",
      " 5   Price        824364 non-null  float64       \n",
      " 6   Customer ID  824364 non-null  float64       \n",
      " 7   Country      824364 non-null  object        \n",
      " 8   Quantity_R0  824364 non-null  float64       \n",
      " 9   Price_R0     824364 non-null  float64       \n",
      "dtypes: datetime64[ns](1), float64(4), int64(1), object(4)\n",
      "memory usage: 69.2+ MB\n"
     ]
    }
   ],
   "source": [
    "data2 = data.dropna(subset=['Customer ID'])\n",
    "data2.info()"
   ]
  },
  {
   "cell_type": "code",
   "execution_count": 26,
   "metadata": {},
   "outputs": [
    {
     "name": "stderr",
     "output_type": "stream",
     "text": [
      "C:\\Users\\mrhuy\\AppData\\Local\\Temp\\ipykernel_2000\\2964204570.py:1: SettingWithCopyWarning: \n",
      "A value is trying to be set on a copy of a slice from a DataFrame.\n",
      "Try using .loc[row_indexer,col_indexer] = value instead\n",
      "\n",
      "See the caveats in the documentation: https://pandas.pydata.org/pandas-docs/stable/user_guide/indexing.html#returning-a-view-versus-a-copy\n",
      "  data2['Quantity_R0'] = data2['Quantity_R0'].astype('int64')\n",
      "C:\\Users\\mrhuy\\AppData\\Local\\Temp\\ipykernel_2000\\2964204570.py:2: SettingWithCopyWarning: \n",
      "A value is trying to be set on a copy of a slice from a DataFrame.\n",
      "Try using .loc[row_indexer,col_indexer] = value instead\n",
      "\n",
      "See the caveats in the documentation: https://pandas.pydata.org/pandas-docs/stable/user_guide/indexing.html#returning-a-view-versus-a-copy\n",
      "  data2['Customer ID'] = data2['Customer ID'].astype('int64')\n"
     ]
    }
   ],
   "source": [
    "data2['Quantity_R0'] = data2['Quantity_R0'].astype('int64')\n",
    "data2['Customer ID'] = data2['Customer ID'].astype('int64')"
   ]
  },
  {
   "cell_type": "code",
   "execution_count": 27,
   "metadata": {},
   "outputs": [
    {
     "name": "stdout",
     "output_type": "stream",
     "text": [
      "<class 'pandas.core.frame.DataFrame'>\n",
      "Int64Index: 824364 entries, 0 to 1067370\n",
      "Data columns (total 10 columns):\n",
      " #   Column       Non-Null Count   Dtype         \n",
      "---  ------       --------------   -----         \n",
      " 0   Invoice      824364 non-null  object        \n",
      " 1   StockCode    824364 non-null  object        \n",
      " 2   Description  824364 non-null  object        \n",
      " 3   Quantity     824364 non-null  int64         \n",
      " 4   InvoiceDate  824364 non-null  datetime64[ns]\n",
      " 5   Price        824364 non-null  float64       \n",
      " 6   Customer ID  824364 non-null  int64         \n",
      " 7   Country      824364 non-null  object        \n",
      " 8   Quantity_R0  824364 non-null  int64         \n",
      " 9   Price_R0     824364 non-null  float64       \n",
      "dtypes: datetime64[ns](1), float64(2), int64(3), object(4)\n",
      "memory usage: 69.2+ MB\n"
     ]
    }
   ],
   "source": [
    "data2.info()"
   ]
  },
  {
   "cell_type": "code",
   "execution_count": 28,
   "metadata": {},
   "outputs": [
    {
     "name": "stdout",
     "output_type": "stream",
     "text": [
      "<class 'pandas.core.frame.DataFrame'>\n",
      "Int64Index: 823249 entries, 0 to 1067370\n",
      "Data columns (total 10 columns):\n",
      " #   Column       Non-Null Count   Dtype         \n",
      "---  ------       --------------   -----         \n",
      " 0   Invoice      823249 non-null  object        \n",
      " 1   StockCode    823249 non-null  object        \n",
      " 2   Description  823249 non-null  object        \n",
      " 3   Quantity     823249 non-null  int64         \n",
      " 4   InvoiceDate  823249 non-null  datetime64[ns]\n",
      " 5   Price        823249 non-null  float64       \n",
      " 6   Customer ID  823249 non-null  int64         \n",
      " 7   Country      823249 non-null  object        \n",
      " 8   Quantity_R0  823249 non-null  int64         \n",
      " 9   Price_R0     823249 non-null  float64       \n",
      "dtypes: datetime64[ns](1), float64(2), int64(3), object(4)\n",
      "memory usage: 69.1+ MB\n"
     ]
    }
   ],
   "source": [
    "data2.drop_duplicates()\n",
    "data2=data2[~data2['StockCode'].isin(['TEST','M'])]\n",
    "data2.info()"
   ]
  },
  {
   "cell_type": "code",
   "execution_count": 29,
   "metadata": {},
   "outputs": [
    {
     "data": {
      "text/html": [
       "<div>\n",
       "<style scoped>\n",
       "    .dataframe tbody tr th:only-of-type {\n",
       "        vertical-align: middle;\n",
       "    }\n",
       "\n",
       "    .dataframe tbody tr th {\n",
       "        vertical-align: top;\n",
       "    }\n",
       "\n",
       "    .dataframe thead th {\n",
       "        text-align: right;\n",
       "    }\n",
       "</style>\n",
       "<table border=\"1\" class=\"dataframe\">\n",
       "  <thead>\n",
       "    <tr style=\"text-align: right;\">\n",
       "      <th></th>\n",
       "      <th>Invoice</th>\n",
       "      <th>StockCode</th>\n",
       "      <th>Description</th>\n",
       "      <th>Quantity</th>\n",
       "      <th>InvoiceDate</th>\n",
       "      <th>Price</th>\n",
       "      <th>Customer ID</th>\n",
       "      <th>Country</th>\n",
       "      <th>Quantity_R0</th>\n",
       "      <th>Price_R0</th>\n",
       "    </tr>\n",
       "  </thead>\n",
       "  <tbody>\n",
       "  </tbody>\n",
       "</table>\n",
       "</div>"
      ],
      "text/plain": [
       "Empty DataFrame\n",
       "Columns: [Invoice, StockCode, Description, Quantity, InvoiceDate, Price, Customer ID, Country, Quantity_R0, Price_R0]\n",
       "Index: []"
      ]
     },
     "execution_count": 29,
     "metadata": {},
     "output_type": "execute_result"
    }
   ],
   "source": [
    "data2=data2[data2['StockCode'].isin(['TEST','M'])]\n",
    "data2"
   ]
  }
 ],
 "metadata": {
  "colab": {
   "authorship_tag": "ABX9TyNeeHW8y0dw/qGHwq/GB4S/",
   "collapsed_sections": [],
   "name": "Customer_segmentation_using_kmeans_clustering.ipynb",
   "provenance": [],
   "toc_visible": true
  },
  "kernelspec": {
   "display_name": "Python 3 (ipykernel)",
   "language": "python",
   "name": "python3"
  },
  "language_info": {
   "codemirror_mode": {
    "name": "ipython",
    "version": 3
   },
   "file_extension": ".py",
   "mimetype": "text/x-python",
   "name": "python",
   "nbconvert_exporter": "python",
   "pygments_lexer": "ipython3",
   "version": "3.9.12"
  }
 },
 "nbformat": 4,
 "nbformat_minor": 4
}
