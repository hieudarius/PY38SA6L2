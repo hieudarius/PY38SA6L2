{
 "cells": [
  {
   "cell_type": "markdown",
   "metadata": {
    "id": "Kh46GIQvzg6H"
   },
   "source": [
    "# <p style=\"background-color:#682F2F;font-family:newtimeroman;color:#FFF9ED;font-size:150%;text-align:center;border-radius:10px 10px;\">Customer Segmentation</p>\n",
    "\n",
    "<img src=\"https://github.com/KarnikaKapoor/Files/blob/main/Colorful%20Handwritten%20About%20Me%20Blank%20Education%20Presentation.gif?raw=true\">\n",
    "\n",
    "In this final project, an unsupervised clustering will be performed on the customer's records extracted into [`online_retail.xlsx`](https://github.com/thuynh386/olist_ecommerce_dataset/blob/master/online_retail_II.xlsx?raw=true). \n",
    "   <a id='top'></a>\n",
    "<div class=\"list-group\" id=\"list-tab\" role=\"tablist\">\n",
    "<p style=\"background-color:#682F2F;font-family:newtimeroman;color:#FFF9ED;font-size:150%;text-align:center;border-radius:10px 10px;\">Requirements</p>   \n",
    "    \n",
    "### 1. Import libraries\n",
    "\n",
    "Import libraries that support the analysis and visualization of data, e.g. pandas, matplotlib, seaborn, sklearn, etc.\n",
    "\n",
    "|Invoice|StockCode|\tDescription|\tQuantity\t|InvoiceDate|\tPrice|\tCustomer ID|\tCountry|\n",
    "|-|-|\t-|\t-\t|-|\t-|\t-|\t-|\n",
    "|0\t|489434 |85048|\t15CM CHRISTMAS GLASS BALL 20 LIGHTS\t12\t|2009-12-01 07:45:00\t|6.95\t|13085.0\t|United Kingdom|\n",
    "|1\t|489434 |79323P|\tPINK CHERRY LIGHTS\t12|\t2009-12-01 07:45:00|\t6.75|\t13085.0|\tUnited Kingdom|\n",
    "\n",
    "### 2. Load datasets\n",
    "\n",
    "The dataset can be accessed [here](https://github.com/thuynh386/olist_ecommerce_dataset/blob/master/online_retail_II.xlsx?raw=true) and can be loaded from excel using pandas.\n",
    "Further analysis can be performed on the dataset to discover the relationship between the features and the problem of features.\n",
    "E.g:\n",
    "- How many customers are there in the dataset?\n",
    "- Describe the dataset with the necessary information?\n",
    "- Is there any abnormal type for each feature?\n",
    "- How many unique values are there in each feature?\n",
    "- How many missing values are there in each feature?\n",
    "- Are there any outliers in each feature?\n",
    "    \n",
    "### 3. Data cleaning and preprocessing \n",
    "- Remove the outliers if any.\n",
    "- Remove the missing values if any.\n",
    "- Convert the date to datetime format.\n",
    "- Convert the quantity to numeric.\n",
    "- Convert the customer id to numeric.\n",
    "- Remove the duplicates and test data where StockCode is 'TEST' or 'M'.\n",
    "\n",
    "### 4. Data visualization and analysis\n",
    "- Visualize the data with the help of matplotlib and seaborn for the above analysis.\n",
    "\n",
    "### 5. Feature creation\n",
    "Create new features from the existing features to capture the RFM (Recency, Frequency, Monetary) of the customer.\n",
    "- Create `StockValue` feature, which is the product of `Quantity` and `Price`.\n",
    "- Create `Recency` feature, which is the difference between `InvoiceDate` and `InvoiceDate` of the last invoice.\n",
    "- Create `Frequency` feature, which is the number of invoices of the customer.\n",
    "- Create `Monetary` feature, which is the sum of `StockValue` of the invoices.\n",
    "Make sure that the features are in the same scale in the dataset with no missing values or outliers.\n",
    "    \n",
    "### 6. Clustering with suitable algorithm\n",
    "Perform clustering on the dataset using the algorithm that is suitable for the problem. E.g Kmeans, GMM, DBSCAN, etc.\n",
    "In terms of K-means, make sure to find the optimal number of clusters using the elbow method.\n",
    "Visualize the clusters using the above analysis. Examine the clusters formed via scatter plot.\n",
    "\n",
    "### 7. Evaluate the clustering results and conclusion of the analysis (Important)"
   ]
  },
  {
   "cell_type": "code",
   "execution_count": 1,
   "metadata": {},
   "outputs": [],
   "source": [
    "### 1"
   ]
  },
  {
   "cell_type": "code",
   "execution_count": 2,
   "metadata": {},
   "outputs": [],
   "source": [
    "import pandas as pd\n",
    "import numpy as np\n",
    "import seaborn as sns\n",
    "import matplotlib.pyplot as plt"
   ]
  },
  {
   "cell_type": "code",
   "execution_count": 8,
   "metadata": {},
   "outputs": [
    {
     "name": "stdout",
     "output_type": "stream",
     "text": [
      "Collecting openpyxl\n",
      "  Downloading openpyxl-3.0.10-py2.py3-none-any.whl (242 kB)\n",
      "Collecting et-xmlfile\n",
      "  Downloading et_xmlfile-1.1.0-py3-none-any.whl (4.7 kB)\n",
      "Installing collected packages: et-xmlfile, openpyxl\n",
      "Successfully installed et-xmlfile-1.1.0 openpyxl-3.0.10\n",
      "Note: you may need to restart the kernel to use updated packages.\n"
     ]
    }
   ],
   "source": [
    "pip install openpyxl"
   ]
  },
  {
   "cell_type": "raw",
   "metadata": {},
   "source": [
    "url = \"D:\\Python 2\\HomeWork\\FormGithub\\PY38SA6L2\\Lecture 08\\online_retail.xlsx\"\n",
    "data1 = pd.read_excel(url,sheet_name='Year 2009-2010')\n",
    "data2 = pd.read_excel(url,sheet_name='Year 2010-2011')\n",
    "data = pd.concat(data1,data2)\n",
    "data.head(2)"
   ]
  },
  {
   "cell_type": "code",
   "execution_count": 3,
   "metadata": {},
   "outputs": [
    {
     "data": {
      "text/plain": [
       "['Year 2009-2010', 'Year 2010-2011']"
      ]
     },
     "execution_count": 3,
     "metadata": {},
     "output_type": "execute_result"
    }
   ],
   "source": [
    "xl = pd.ExcelFile('online_retail.xlsx')\n",
    "xl.sheet_names"
   ]
  },
  {
   "cell_type": "code",
   "execution_count": null,
   "metadata": {},
   "outputs": [],
   "source": [
    "data = pd.DataFrame([])\n",
    "sheets = ['Year 2009-2010', 'Year 2010-2011']\n",
    "\n",
    "for i in sheets:\n",
    "    data = pd.concat([data,pd.read_excel('online_retail.xlsx',sheet_name=i)],ignore_index=True)\n",
    "data.head(3)"
   ]
  },
  {
   "cell_type": "code",
   "execution_count": null,
   "metadata": {},
   "outputs": [],
   "source": [
    "#2.1 How many customers are there in the dataset?\n",
    "data['Customer ID'].nunique()"
   ]
  },
  {
   "cell_type": "code",
   "execution_count": null,
   "metadata": {},
   "outputs": [],
   "source": []
  },
  {
   "cell_type": "code",
   "execution_count": null,
   "metadata": {},
   "outputs": [],
   "source": [
    "data['Country'].unique()"
   ]
  },
  {
   "cell_type": "code",
   "execution_count": null,
   "metadata": {},
   "outputs": [],
   "source": [
    "# How many customers are there in the dataset?\n",
    "data['Country'].nunique()"
   ]
  },
  {
   "cell_type": "code",
   "execution_count": 22,
   "metadata": {},
   "outputs": [],
   "source": [
    "#2.2 Describe the dataset with the necessary information?"
   ]
  },
  {
   "cell_type": "code",
   "execution_count": null,
   "metadata": {},
   "outputs": [],
   "source": [
    "data.describe()"
   ]
  },
  {
   "cell_type": "code",
   "execution_count": null,
   "metadata": {},
   "outputs": [],
   "source": [
    "data[data['Quantity']<0]"
   ]
  },
  {
   "cell_type": "code",
   "execution_count": 28,
   "metadata": {},
   "outputs": [
    {
     "data": {
      "text/plain": [
       "Invoice        11684\n",
       "StockCode       4089\n",
       "Description     3300\n",
       "Quantity         493\n",
       "InvoiceDate    10709\n",
       "Price           1006\n",
       "Customer ID     2572\n",
       "Country           36\n",
       "dtype: int64"
      ]
     },
     "execution_count": 28,
     "metadata": {},
     "output_type": "execute_result"
    }
   ],
   "source": [
    "data[data['Quantity']<0].nunique()"
   ]
  },
  {
   "cell_type": "code",
   "execution_count": null,
   "metadata": {},
   "outputs": [],
   "source": [
    "data[data['Price']<0]"
   ]
  },
  {
   "cell_type": "code",
   "execution_count": null,
   "metadata": {},
   "outputs": [],
   "source": [
    "data[data['Price']<0].nunique()"
   ]
  },
  {
   "cell_type": "code",
   "execution_count": null,
   "metadata": {},
   "outputs": [],
   "source": [
    "data[['StockCode','Description','Country']].describe()"
   ]
  },
  {
   "cell_type": "code",
   "execution_count": null,
   "metadata": {},
   "outputs": [],
   "source": [
    "data.info()"
   ]
  },
  {
   "cell_type": "code",
   "execution_count": null,
   "metadata": {},
   "outputs": [],
   "source": [
    "data.isna().sum()/len(data)"
   ]
  },
  {
   "cell_type": "code",
   "execution_count": null,
   "metadata": {},
   "outputs": [],
   "source": [
    "data.nunique()"
   ]
  },
  {
   "cell_type": "code",
   "execution_count": null,
   "metadata": {},
   "outputs": [],
   "source": [
    "sns.boxplot(data=data[['Quantity','Price']])"
   ]
  },
  {
   "cell_type": "code",
   "execution_count": null,
   "metadata": {},
   "outputs": [],
   "source": [
    "data.duplicated().sum()"
   ]
  },
  {
   "cell_type": "code",
   "execution_count": null,
   "metadata": {},
   "outputs": [],
   "source": [
    "data[data['StockCode'].isin(['TEST','M'])]"
   ]
  },
  {
   "cell_type": "raw",
   "metadata": {},
   "source": [
    "### 3"
   ]
  },
  {
   "cell_type": "code",
   "execution_count": null,
   "metadata": {},
   "outputs": [],
   "source": [
    "q1 = data['Quantity'].quantile(0.25)\n",
    "q2 = data['Quantity'].quantile(0.75)\n",
    "IQR = q2 - q1\n",
    "IQR"
   ]
  },
  {
   "cell_type": "code",
   "execution_count": null,
   "metadata": {},
   "outputs": [],
   "source": [
    "max_limit = q2 + 1.5*IQR\n",
    "min_limit = q1 - 1.5*IQR"
   ]
  },
  {
   "cell_type": "code",
   "execution_count": null,
   "metadata": {},
   "outputs": [],
   "source": [
    "data['Quantity_R0']=pd.DataFrame(np.where(data['Quantity']>max_limit,max_limit,(np.where(data['Quantity']<min_limit,min_limit,data['Quantity']))))\n",
    "data.head(3)"
   ]
  },
  {
   "cell_type": "code",
   "execution_count": null,
   "metadata": {},
   "outputs": [],
   "source": [
    "sns.boxplot(data=data['Quantity_R0'])"
   ]
  },
  {
   "cell_type": "code",
   "execution_count": null,
   "metadata": {},
   "outputs": [],
   "source": [
    "q1 = data['Price'].quantile(0.25)\n",
    "q2 = data['Price'].quantile(0.75)\n",
    "IQR = q2 - q1\n",
    "IQR\n",
    "max_limit = q2 + 1.5*IQR\n",
    "min_limit = q1 - 1.5*IQR\n",
    "\n",
    "data['Price_R0']=pd.DataFrame(np.where(data['Price']>max_limit,max_limit,(np.where(data['Price']<min_limit,min_limit,data['Price']))))\n",
    "data.head(3)"
   ]
  },
  {
   "cell_type": "code",
   "execution_count": null,
   "metadata": {},
   "outputs": [],
   "source": [
    "sns.boxplot(data=data[['Quantity_R0','Price_R0']])"
   ]
  },
  {
   "cell_type": "code",
   "execution_count": null,
   "metadata": {},
   "outputs": [],
   "source": [
    "data2 = data.dropna(subset=['Customer ID'])\n",
    "data2.info()"
   ]
  },
  {
   "cell_type": "code",
   "execution_count": null,
   "metadata": {},
   "outputs": [],
   "source": [
    "data2['Quantity_R0'] = data2['Quantity_R0'].astype('int64')\n",
    "data2['Customer ID'] = data2['Customer ID'].astype('int64')"
   ]
  },
  {
   "cell_type": "code",
   "execution_count": null,
   "metadata": {},
   "outputs": [],
   "source": [
    "data2.info()"
   ]
  },
  {
   "cell_type": "code",
   "execution_count": null,
   "metadata": {},
   "outputs": [],
   "source": [
    "data2.drop_duplicates()\n",
    "data2=data2[~data2['StockCode'].isin(['TEST','M'])]\n",
    "data2.info()"
   ]
  },
  {
   "cell_type": "code",
   "execution_count": null,
   "metadata": {},
   "outputs": [],
   "source": [
    "data2=data2[data2['StockCode'].isin(['TEST','M'])]\n",
    "data2"
   ]
  }
 ],
 "metadata": {
  "colab": {
   "authorship_tag": "ABX9TyNeeHW8y0dw/qGHwq/GB4S/",
   "collapsed_sections": [],
   "name": "Customer_segmentation_using_kmeans_clustering.ipynb",
   "provenance": [],
   "toc_visible": true
  },
  "kernelspec": {
   "display_name": "Python 3 (ipykernel)",
   "language": "python",
   "name": "python3"
  },
  "language_info": {
   "codemirror_mode": {
    "name": "ipython",
    "version": 3
   },
   "file_extension": ".py",
   "mimetype": "text/x-python",
   "name": "python",
   "nbconvert_exporter": "python",
   "pygments_lexer": "ipython3",
   "version": "3.9.12"
  }
 },
 "nbformat": 4,
 "nbformat_minor": 4
}
