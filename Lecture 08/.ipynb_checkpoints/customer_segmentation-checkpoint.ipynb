{
 "cells": [
  {
   "cell_type": "markdown",
   "metadata": {
    "id": "Kh46GIQvzg6H"
   },
   "source": [
    "# <p style=\"background-color:#682F2F;font-family:newtimeroman;color:#FFF9ED;font-size:150%;text-align:center;border-radius:10px 10px;\">Customer Segmentation</p>\n",
    "\n",
    "<img src=\"https://github.com/KarnikaKapoor/Files/blob/main/Colorful%20Handwritten%20About%20Me%20Blank%20Education%20Presentation.gif?raw=true\">\n",
    "\n",
    "In this final project, an unsupervised clustering will be performed on the customer's records extracted into [`online_retail.xlsx`](https://github.com/thuynh386/olist_ecommerce_dataset/blob/master/online_retail_II.xlsx?raw=true). \n",
    "   <a id='top'></a>\n",
    "<div class=\"list-group\" id=\"list-tab\" role=\"tablist\">\n",
    "<p style=\"background-color:#682F2F;font-family:newtimeroman;color:#FFF9ED;font-size:150%;text-align:center;border-radius:10px 10px;\">Requirements</p>   \n",
    "    \n",
    "### 1. Import libraries\n",
    "\n",
    "Import libraries that support the analysis and visualization of data, e.g. pandas, matplotlib, seaborn, sklearn, etc.\n",
    "\n",
    "|Invoice|StockCode|\tDescription|\tQuantity\t|InvoiceDate|\tPrice|\tCustomer ID|\tCountry|\n",
    "|-|-|\t-|\t-\t|-|\t-|\t-|\t-|\n",
    "|0\t|489434 |85048|\t15CM CHRISTMAS GLASS BALL 20 LIGHTS\t12\t|2009-12-01 07:45:00\t|6.95\t|13085.0\t|United Kingdom|\n",
    "|1\t|489434 |79323P|\tPINK CHERRY LIGHTS\t12|\t2009-12-01 07:45:00|\t6.75|\t13085.0|\tUnited Kingdom|\n",
    "\n",
    "### 2. Load datasets\n",
    "\n",
    "The dataset can be accessed [here](https://github.com/thuynh386/olist_ecommerce_dataset/blob/master/online_retail_II.xlsx?raw=true) and can be loaded from excel using pandas.\n",
    "Further analysis can be performed on the dataset to discover the relationship between the features and the problem of features.\n",
    "E.g:\n",
    "- How many customers are there in the dataset?\n",
    "- Describe the dataset with the necessary information?\n",
    "- Is there any abnormal type for each feature?\n",
    "- How many unique values are there in each feature?\n",
    "- How many missing values are there in each feature?\n",
    "- Are there any outliers in each feature?\n",
    "    \n",
    "### 3. Data cleaning and preprocessing \n",
    "- Remove the outliers if any.\n",
    "- Remove the missing values if any.\n",
    "- Convert the date to datetime format.\n",
    "- Convert the quantity to numeric.\n",
    "- Convert the customer id to numeric.\n",
    "- Remove the duplicates and test data where StockCode is 'TEST' or 'M'.\n",
    "\n",
    "### 4. Data visualization and analysis\n",
    "- Visualize the data with the help of matplotlib and seaborn for the above analysis.\n",
    "\n",
    "### 5. Feature creation\n",
    "Create new features from the existing features to capture the RFM (Recency, Frequency, Monetary) of the customer.\n",
    "- Create `StockValue` feature, which is the product of `Quantity` and `Price`.\n",
    "- Create `Recency` feature, which is the difference between `InvoiceDate` and `InvoiceDate` of the last invoice.\n",
    "- Create `Frequency` feature, which is the number of invoices of the customer.\n",
    "- Create `Monetary` feature, which is the sum of `StockValue` of the invoices.\n",
    "Make sure that the features are in the same scale in the dataset with no missing values or outliers.\n",
    "    \n",
    "### 6. Clustering with suitable algorithm\n",
    "Perform clustering on the dataset using the algorithm that is suitable for the problem. E.g Kmeans, GMM, DBSCAN, etc.\n",
    "In terms of K-means, make sure to find the optimal number of clusters using the elbow method.\n",
    "Visualize the clusters using the above analysis. Examine the clusters formed via scatter plot.\n",
    "\n",
    "### 7. Evaluate the clustering results and conclusion of the analysis (Important)"
   ]
  }
 ],
 "metadata": {
  "colab": {
   "authorship_tag": "ABX9TyNeeHW8y0dw/qGHwq/GB4S/",
   "collapsed_sections": [],
   "name": "Customer_segmentation_using_kmeans_clustering.ipynb",
   "provenance": [],
   "toc_visible": true
  },
  "kernelspec": {
   "display_name": "Python 3",
   "language": "python",
   "name": "python3"
  },
  "language_info": {
   "codemirror_mode": {
    "name": "ipython",
    "version": 3
   },
   "file_extension": ".py",
   "mimetype": "text/x-python",
   "name": "python",
   "nbconvert_exporter": "python",
   "pygments_lexer": "ipython3",
   "version": "3.8.3"
  }
 },
 "nbformat": 4,
 "nbformat_minor": 4
}
